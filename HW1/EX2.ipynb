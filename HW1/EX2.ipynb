{
 "cells": [
  {
   "cell_type": "markdown",
   "id": "96e4b473",
   "metadata": {},
   "source": [
    "## EX2"
   ]
  },
  {
   "cell_type": "markdown",
   "id": "3d51c250",
   "metadata": {},
   "source": [
    " use Bag of Words for embedding                                                                                              \n",
    "               using human feature eng                                                                                                                          \n",
    "               use Down-Sampling                                                                                                             \n",
    "               use RandomForestClassifier"
   ]
  },
  {
   "cell_type": "markdown",
   "id": "0186cd64",
   "metadata": {},
   "source": [
    "Down-Sampling"
   ]
  },
  {
   "cell_type": "code",
   "execution_count": 1,
   "id": "a802998b",
   "metadata": {},
   "outputs": [],
   "source": [
    "import pandas as pd\n",
    "import matplotlib.pyplot as plt"
   ]
  },
  {
   "cell_type": "code",
   "execution_count": 2,
   "id": "4591be0d",
   "metadata": {},
   "outputs": [
    {
     "data": {
      "text/html": [
       "<div>\n",
       "<style scoped>\n",
       "    .dataframe tbody tr th:only-of-type {\n",
       "        vertical-align: middle;\n",
       "    }\n",
       "\n",
       "    .dataframe tbody tr th {\n",
       "        vertical-align: top;\n",
       "    }\n",
       "\n",
       "    .dataframe thead th {\n",
       "        text-align: right;\n",
       "    }\n",
       "</style>\n",
       "<table border=\"1\" class=\"dataframe\">\n",
       "  <thead>\n",
       "    <tr style=\"text-align: right;\">\n",
       "      <th></th>\n",
       "      <th>Unnamed: 0</th>\n",
       "      <th>Unnamed: 0.1</th>\n",
       "      <th>کودک</th>\n",
       "      <th>سازنده</th>\n",
       "      <th>برند</th>\n",
       "      <th>تهران</th>\n",
       "      <th>کاملا</th>\n",
       "      <th>سالم</th>\n",
       "      <th>هیچ</th>\n",
       "      <th>نظر</th>\n",
       "      <th>...</th>\n",
       "      <th>گلگیر</th>\n",
       "      <th>بنزینی</th>\n",
       "      <th>پراید</th>\n",
       "      <th>cat1</th>\n",
       "      <th>cat2</th>\n",
       "      <th>cat3</th>\n",
       "      <th>price</th>\n",
       "      <th>size</th>\n",
       "      <th>year</th>\n",
       "      <th>room_number</th>\n",
       "    </tr>\n",
       "  </thead>\n",
       "  <tbody>\n",
       "    <tr>\n",
       "      <th>0</th>\n",
       "      <td>0</td>\n",
       "      <td>0</td>\n",
       "      <td>1</td>\n",
       "      <td>1</td>\n",
       "      <td>1</td>\n",
       "      <td>1</td>\n",
       "      <td>0</td>\n",
       "      <td>0</td>\n",
       "      <td>0</td>\n",
       "      <td>0</td>\n",
       "      <td>...</td>\n",
       "      <td>0</td>\n",
       "      <td>0</td>\n",
       "      <td>0</td>\n",
       "      <td>home-kitchen</td>\n",
       "      <td>appliance</td>\n",
       "      <td>washing-machines</td>\n",
       "      <td>1850000.0</td>\n",
       "      <td>0</td>\n",
       "      <td>0</td>\n",
       "      <td>0</td>\n",
       "    </tr>\n",
       "    <tr>\n",
       "      <th>1</th>\n",
       "      <td>1</td>\n",
       "      <td>1</td>\n",
       "      <td>0</td>\n",
       "      <td>0</td>\n",
       "      <td>0</td>\n",
       "      <td>1</td>\n",
       "      <td>1</td>\n",
       "      <td>1</td>\n",
       "      <td>2</td>\n",
       "      <td>1</td>\n",
       "      <td>...</td>\n",
       "      <td>0</td>\n",
       "      <td>0</td>\n",
       "      <td>0</td>\n",
       "      <td>home-kitchen</td>\n",
       "      <td>appliance</td>\n",
       "      <td>washing-machines</td>\n",
       "      <td>8000000.0</td>\n",
       "      <td>0</td>\n",
       "      <td>0</td>\n",
       "      <td>0</td>\n",
       "    </tr>\n",
       "    <tr>\n",
       "      <th>2</th>\n",
       "      <td>2</td>\n",
       "      <td>2</td>\n",
       "      <td>0</td>\n",
       "      <td>0</td>\n",
       "      <td>0</td>\n",
       "      <td>1</td>\n",
       "      <td>0</td>\n",
       "      <td>1</td>\n",
       "      <td>0</td>\n",
       "      <td>0</td>\n",
       "      <td>...</td>\n",
       "      <td>0</td>\n",
       "      <td>0</td>\n",
       "      <td>0</td>\n",
       "      <td>home-kitchen</td>\n",
       "      <td>appliance</td>\n",
       "      <td>washing-machines</td>\n",
       "      <td>5500000.0</td>\n",
       "      <td>0</td>\n",
       "      <td>0</td>\n",
       "      <td>0</td>\n",
       "    </tr>\n",
       "    <tr>\n",
       "      <th>3</th>\n",
       "      <td>3</td>\n",
       "      <td>3</td>\n",
       "      <td>0</td>\n",
       "      <td>0</td>\n",
       "      <td>0</td>\n",
       "      <td>1</td>\n",
       "      <td>1</td>\n",
       "      <td>1</td>\n",
       "      <td>0</td>\n",
       "      <td>0</td>\n",
       "      <td>...</td>\n",
       "      <td>0</td>\n",
       "      <td>0</td>\n",
       "      <td>0</td>\n",
       "      <td>home-kitchen</td>\n",
       "      <td>appliance</td>\n",
       "      <td>washing-machines</td>\n",
       "      <td>500000.0</td>\n",
       "      <td>0</td>\n",
       "      <td>0</td>\n",
       "      <td>0</td>\n",
       "    </tr>\n",
       "    <tr>\n",
       "      <th>4</th>\n",
       "      <td>4</td>\n",
       "      <td>4</td>\n",
       "      <td>0</td>\n",
       "      <td>0</td>\n",
       "      <td>0</td>\n",
       "      <td>1</td>\n",
       "      <td>0</td>\n",
       "      <td>0</td>\n",
       "      <td>0</td>\n",
       "      <td>0</td>\n",
       "      <td>...</td>\n",
       "      <td>0</td>\n",
       "      <td>0</td>\n",
       "      <td>0</td>\n",
       "      <td>home-kitchen</td>\n",
       "      <td>appliance</td>\n",
       "      <td>washing-machines</td>\n",
       "      <td>12000000.0</td>\n",
       "      <td>0</td>\n",
       "      <td>0</td>\n",
       "      <td>0</td>\n",
       "    </tr>\n",
       "  </tbody>\n",
       "</table>\n",
       "<p>5 rows × 482 columns</p>\n",
       "</div>"
      ],
      "text/plain": [
       "   Unnamed: 0  Unnamed: 0.1  کودک  سازنده  برند  تهران  کاملا  سالم  هیچ  نظر  \\\n",
       "0           0             0     1       1     1      1      0     0    0    0   \n",
       "1           1             1     0       0     0      1      1     1    2    1   \n",
       "2           2             2     0       0     0      1      0     1    0    0   \n",
       "3           3             3     0       0     0      1      1     1    0    0   \n",
       "4           4             4     0       0     0      1      0     0    0    0   \n",
       "\n",
       "   ...  گلگیر  بنزینی  پراید          cat1       cat2              cat3  \\\n",
       "0  ...      0       0      0  home-kitchen  appliance  washing-machines   \n",
       "1  ...      0       0      0  home-kitchen  appliance  washing-machines   \n",
       "2  ...      0       0      0  home-kitchen  appliance  washing-machines   \n",
       "3  ...      0       0      0  home-kitchen  appliance  washing-machines   \n",
       "4  ...      0       0      0  home-kitchen  appliance  washing-machines   \n",
       "\n",
       "        price  size  year  room_number  \n",
       "0   1850000.0     0     0            0  \n",
       "1   8000000.0     0     0            0  \n",
       "2   5500000.0     0     0            0  \n",
       "3    500000.0     0     0            0  \n",
       "4  12000000.0     0     0            0  \n",
       "\n",
       "[5 rows x 482 columns]"
      ]
     },
     "execution_count": 2,
     "metadata": {},
     "output_type": "execute_result"
    }
   ],
   "source": [
    "df = pd.read_csv(\"Human_Feature_Eng.csv\")\n",
    "df.head()"
   ]
  },
  {
   "cell_type": "code",
   "execution_count": 3,
   "id": "ab6964c8",
   "metadata": {},
   "outputs": [
    {
     "data": {
      "image/png": "[encoded data removed]",
      "text/plain": [
       "<Figure size 432x288 with 1 Axes>"
      ]
     },
     "metadata": {
      "needs_background": "light"
     },
     "output_type": "display_data"
    }
   ],
   "source": [
    "df.cat3.value_counts().plot(kind=\"bar\")\n",
    "plt.title(\"Value counts of the cat3 variable\")\n",
    "plt.xlabel(\"type\")\n",
    "plt.xticks(rotation=0)\n",
    "plt.ylabel(\"Count\")\n",
    "plt.show()"
   ]
  },
  {
   "cell_type": "code",
   "execution_count": 4,
   "id": "18cd4182",
   "metadata": {},
   "outputs": [],
   "source": [
    "buy_office = df[df['cat3']== 'buy-office']"
   ]
  },
  {
   "cell_type": "code",
   "execution_count": 5,
   "id": "1fc0c6d7",
   "metadata": {},
   "outputs": [
    {
     "data": {
      "text/plain": [
       "array(['washing-machines', 'buy-apartment', 'buy-office', 'car'],\n",
       "      dtype=object)"
      ]
     },
     "execution_count": 5,
     "metadata": {},
     "output_type": "execute_result"
    }
   ],
   "source": [
    "df.cat3.unique()"
   ]
  },
  {
   "cell_type": "code",
   "execution_count": 6,
   "id": "9afbdf20",
   "metadata": {},
   "outputs": [],
   "source": [
    "number = len(buy_office)"
   ]
  },
  {
   "cell_type": "code",
   "execution_count": 7,
   "id": "e64b2344",
   "metadata": {},
   "outputs": [],
   "source": [
    "df1 = df[df['cat3'] == 'washing-machines'].sample(number)\n",
    "df2 = df[df['cat3'] == 'buy-apartment'].sample(number)\n",
    "df3 = df[df['cat3'] == 'buy-office'].sample(number)\n",
    "df4 = df[df['cat3'] == 'car'].sample(number)"
   ]
  },
  {
   "cell_type": "code",
   "execution_count": 8,
   "id": "0437ce4e",
   "metadata": {},
   "outputs": [
    {
     "data": {
      "text/html": [
       "<div>\n",
       "<style scoped>\n",
       "    .dataframe tbody tr th:only-of-type {\n",
       "        vertical-align: middle;\n",
       "    }\n",
       "\n",
       "    .dataframe tbody tr th {\n",
       "        vertical-align: top;\n",
       "    }\n",
       "\n",
       "    .dataframe thead th {\n",
       "        text-align: right;\n",
       "    }\n",
       "</style>\n",
       "<table border=\"1\" class=\"dataframe\">\n",
       "  <thead>\n",
       "    <tr style=\"text-align: right;\">\n",
       "      <th></th>\n",
       "      <th>Unnamed: 0</th>\n",
       "      <th>Unnamed: 0.1</th>\n",
       "      <th>کودک</th>\n",
       "      <th>سازنده</th>\n",
       "      <th>برند</th>\n",
       "      <th>تهران</th>\n",
       "      <th>کاملا</th>\n",
       "      <th>سالم</th>\n",
       "      <th>هیچ</th>\n",
       "      <th>نظر</th>\n",
       "      <th>...</th>\n",
       "      <th>گلگیر</th>\n",
       "      <th>بنزینی</th>\n",
       "      <th>پراید</th>\n",
       "      <th>cat1</th>\n",
       "      <th>cat2</th>\n",
       "      <th>cat3</th>\n",
       "      <th>price</th>\n",
       "      <th>size</th>\n",
       "      <th>year</th>\n",
       "      <th>room_number</th>\n",
       "    </tr>\n",
       "  </thead>\n",
       "  <tbody>\n",
       "    <tr>\n",
       "      <th>187</th>\n",
       "      <td>187</td>\n",
       "      <td>187</td>\n",
       "      <td>0</td>\n",
       "      <td>0</td>\n",
       "      <td>0</td>\n",
       "      <td>0</td>\n",
       "      <td>0</td>\n",
       "      <td>1</td>\n",
       "      <td>0</td>\n",
       "      <td>0</td>\n",
       "      <td>...</td>\n",
       "      <td>0</td>\n",
       "      <td>0</td>\n",
       "      <td>0</td>\n",
       "      <td>home-kitchen</td>\n",
       "      <td>appliance</td>\n",
       "      <td>washing-machines</td>\n",
       "      <td>4200000.0</td>\n",
       "      <td>0</td>\n",
       "      <td>0</td>\n",
       "      <td>0</td>\n",
       "    </tr>\n",
       "    <tr>\n",
       "      <th>116</th>\n",
       "      <td>116</td>\n",
       "      <td>116</td>\n",
       "      <td>0</td>\n",
       "      <td>0</td>\n",
       "      <td>0</td>\n",
       "      <td>0</td>\n",
       "      <td>0</td>\n",
       "      <td>0</td>\n",
       "      <td>0</td>\n",
       "      <td>0</td>\n",
       "      <td>...</td>\n",
       "      <td>0</td>\n",
       "      <td>0</td>\n",
       "      <td>0</td>\n",
       "      <td>home-kitchen</td>\n",
       "      <td>appliance</td>\n",
       "      <td>washing-machines</td>\n",
       "      <td>13500000.0</td>\n",
       "      <td>0</td>\n",
       "      <td>0</td>\n",
       "      <td>0</td>\n",
       "    </tr>\n",
       "    <tr>\n",
       "      <th>47</th>\n",
       "      <td>47</td>\n",
       "      <td>47</td>\n",
       "      <td>0</td>\n",
       "      <td>0</td>\n",
       "      <td>0</td>\n",
       "      <td>0</td>\n",
       "      <td>0</td>\n",
       "      <td>1</td>\n",
       "      <td>0</td>\n",
       "      <td>0</td>\n",
       "      <td>...</td>\n",
       "      <td>0</td>\n",
       "      <td>0</td>\n",
       "      <td>0</td>\n",
       "      <td>home-kitchen</td>\n",
       "      <td>appliance</td>\n",
       "      <td>washing-machines</td>\n",
       "      <td>4000000.0</td>\n",
       "      <td>0</td>\n",
       "      <td>0</td>\n",
       "      <td>0</td>\n",
       "    </tr>\n",
       "    <tr>\n",
       "      <th>69</th>\n",
       "      <td>69</td>\n",
       "      <td>69</td>\n",
       "      <td>0</td>\n",
       "      <td>0</td>\n",
       "      <td>0</td>\n",
       "      <td>0</td>\n",
       "      <td>0</td>\n",
       "      <td>0</td>\n",
       "      <td>0</td>\n",
       "      <td>0</td>\n",
       "      <td>...</td>\n",
       "      <td>0</td>\n",
       "      <td>0</td>\n",
       "      <td>0</td>\n",
       "      <td>home-kitchen</td>\n",
       "      <td>appliance</td>\n",
       "      <td>washing-machines</td>\n",
       "      <td>4000000.0</td>\n",
       "      <td>0</td>\n",
       "      <td>0</td>\n",
       "      <td>0</td>\n",
       "    </tr>\n",
       "    <tr>\n",
       "      <th>195</th>\n",
       "      <td>195</td>\n",
       "      <td>195</td>\n",
       "      <td>0</td>\n",
       "      <td>0</td>\n",
       "      <td>0</td>\n",
       "      <td>0</td>\n",
       "      <td>0</td>\n",
       "      <td>0</td>\n",
       "      <td>0</td>\n",
       "      <td>0</td>\n",
       "      <td>...</td>\n",
       "      <td>0</td>\n",
       "      <td>0</td>\n",
       "      <td>0</td>\n",
       "      <td>home-kitchen</td>\n",
       "      <td>appliance</td>\n",
       "      <td>washing-machines</td>\n",
       "      <td>18500000.0</td>\n",
       "      <td>0</td>\n",
       "      <td>0</td>\n",
       "      <td>0</td>\n",
       "    </tr>\n",
       "  </tbody>\n",
       "</table>\n",
       "<p>5 rows × 482 columns</p>\n",
       "</div>"
      ],
      "text/plain": [
       "     Unnamed: 0  Unnamed: 0.1  کودک  سازنده  برند  تهران  کاملا  سالم  هیچ  \\\n",
       "187         187           187     0       0     0      0      0     1    0   \n",
       "116         116           116     0       0     0      0      0     0    0   \n",
       "47           47            47     0       0     0      0      0     1    0   \n",
       "69           69            69     0       0     0      0      0     0    0   \n",
       "195         195           195     0       0     0      0      0     0    0   \n",
       "\n",
       "     نظر  ...  گلگیر  بنزینی  پراید          cat1       cat2  \\\n",
       "187    0  ...      0       0      0  home-kitchen  appliance   \n",
       "116    0  ...      0       0      0  home-kitchen  appliance   \n",
       "47     0  ...      0       0      0  home-kitchen  appliance   \n",
       "69     0  ...      0       0      0  home-kitchen  appliance   \n",
       "195    0  ...      0       0      0  home-kitchen  appliance   \n",
       "\n",
       "                 cat3       price  size  year  room_number  \n",
       "187  washing-machines   4200000.0     0     0            0  \n",
       "116  washing-machines  13500000.0     0     0            0  \n",
       "47   washing-machines   4000000.0     0     0            0  \n",
       "69   washing-machines   4000000.0     0     0            0  \n",
       "195  washing-machines  18500000.0     0     0            0  \n",
       "\n",
       "[5 rows x 482 columns]"
      ]
     },
     "execution_count": 8,
     "metadata": {},
     "output_type": "execute_result"
    }
   ],
   "source": [
    "frames = [df1, df2, df3, df4]\n",
    "cat3_df = pd.concat(frames)\n",
    "cat3_df.head()"
   ]
  },
  {
   "cell_type": "code",
   "execution_count": 9,
   "id": "3fd88ad9",
   "metadata": {},
   "outputs": [],
   "source": [
    "cat3_df['cat3'] = cat3_df['cat3'].str.replace('washing-machines','1')\n",
    "cat3_df['cat3'] = cat3_df['cat3'].str.replace('buy-apartment','2')\n",
    "cat3_df['cat3'] = cat3_df['cat3'].str.replace('buy-office','3')\n",
    "cat3_df['cat3'] = cat3_df['cat3'].str.replace('car','4')"
   ]
  },
  {
   "cell_type": "code",
   "execution_count": 10,
   "id": "bf74ed2c",
   "metadata": {},
   "outputs": [],
   "source": [
    "idx=cat3_df.columns.get_loc(\"cat3\")\n",
    "y = cat3_df.iloc[:, idx].values\n",
    "target = []\n",
    "for i in y :\n",
    "    target.append(int(i))"
   ]
  },
  {
   "cell_type": "code",
   "execution_count": 11,
   "id": "e087ae53",
   "metadata": {},
   "outputs": [],
   "source": [
    "cat3_df = cat3_df.drop('Unnamed: 0',axis=1)\n",
    "cat3_df = cat3_df.drop('cat1',axis=1)\n",
    "cat3_df = cat3_df.drop('cat2',axis=1)\n",
    "x = cat3_df.drop('cat3', axis=1)\n",
    "x = cat3_df.drop('price', axis=1)"
   ]
  },
  {
   "cell_type": "code",
   "execution_count": 12,
   "id": "8aabfafe",
   "metadata": {},
   "outputs": [],
   "source": [
    "x = x.reset_index()"
   ]
  },
  {
   "cell_type": "code",
   "execution_count": 43,
   "id": "f6881439",
   "metadata": {},
   "outputs": [],
   "source": [
    "from sklearn.model_selection import train_test_split  \n",
    "X_train, X_test, y_train, y_test = train_test_split( x , y, test_size=0.2, random_state=42)"
   ]
  },
  {
   "cell_type": "code",
   "execution_count": 44,
   "id": "2380f6c8",
   "metadata": {},
   "outputs": [
    {
     "data": {
      "text/plain": [
       "RandomForestClassifier(random_state=0)"
      ]
     },
     "execution_count": 44,
     "metadata": {},
     "output_type": "execute_result"
    }
   ],
   "source": [
    "\n",
    "from sklearn.ensemble import RandomForestClassifier\n",
    "text_classifier = RandomForestClassifier(n_estimators=100, random_state=0)  \n",
    "text_classifier.fit(X_train, y_train)"
   ]
  },
  {
   "cell_type": "code",
   "execution_count": 45,
   "id": "c8a85c36",
   "metadata": {},
   "outputs": [],
   "source": [
    "\n",
    "predictions = text_classifier.predict(X_test)"
   ]
  },
  {
   "cell_type": "code",
   "execution_count": 46,
   "id": "8cab65de",
   "metadata": {},
   "outputs": [
    {
     "name": "stdout",
     "output_type": "stream",
     "text": [
      "[[38  0  0  0]\n",
      " [ 0 43  0  0]\n",
      " [ 0  0 33  0]\n",
      " [ 0  0  0 36]]\n"
     ]
    }
   ],
   "source": [
    "from sklearn.metrics import classification_report, confusion_matrix, accuracy_score\n",
    " \n",
    "print(confusion_matrix(y_test,predictions))  \n"
   ]
  },
  {
   "cell_type": "code",
   "execution_count": 47,
   "id": "fc8e7e30",
   "metadata": {},
   "outputs": [
    {
     "name": "stdout",
     "output_type": "stream",
     "text": [
      "              precision    recall  f1-score   support\n",
      "\n",
      "           1       1.00      1.00      1.00        38\n",
      "           2       1.00      1.00      1.00        43\n",
      "           3       1.00      1.00      1.00        33\n",
      "           4       1.00      1.00      1.00        36\n",
      "\n",
      "    accuracy                           1.00       150\n",
      "   macro avg       1.00      1.00      1.00       150\n",
      "weighted avg       1.00      1.00      1.00       150\n",
      "\n"
     ]
    }
   ],
   "source": [
    "print(classification_report(y_test,predictions))  \n"
   ]
  },
  {
   "cell_type": "code",
   "execution_count": 48,
   "id": "3e5a383d",
   "metadata": {},
   "outputs": [
    {
     "name": "stdout",
     "output_type": "stream",
     "text": [
      "1.0\n"
     ]
    }
   ],
   "source": [
    "print(accuracy_score(y_test, predictions))"
   ]
  }
 ],
 "metadata": {
  "kernelspec": {
   "display_name": "Python 3 (ipykernel)",
   "language": "python",
   "name": "python3"
  },
  "language_info": {
   "codemirror_mode": {
    "name": "ipython",
    "version": 3
   },
   "file_extension": ".py",
   "mimetype": "text/x-python",
   "name": "python",
   "nbconvert_exporter": "python",
   "pygments_lexer": "ipython3",
   "version": "3.9.7"
  }
 },
 "nbformat": 4,
 "nbformat_minor": 5
}
