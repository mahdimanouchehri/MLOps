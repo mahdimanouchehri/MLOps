{
 "cells": [
  {
   "cell_type": "markdown",
   "id": "41909806",
   "metadata": {},
   "source": [
    "# EX1"
   ]
  },
  {
   "cell_type": "markdown",
   "id": "fc78020b",
   "metadata": {},
   "source": [
    " use Bag of Words for embedding                                                                                              \n",
    "               Not using feature eng                                                                                                                          \n",
    "               use Down-Sampling                                                                                                             \n",
    "               use RandomForestClassifier"
   ]
  },
  {
   "cell_type": "markdown",
   "id": "e510d86c",
   "metadata": {},
   "source": [
    "Down-Sampling"
   ]
  },
  {
   "cell_type": "code",
   "execution_count": 90,
   "id": "0f40a8c0",
   "metadata": {},
   "outputs": [],
   "source": [
    "import pandas as pd\n",
    "import matplotlib.pyplot as plt"
   ]
  },
  {
   "cell_type": "code",
   "execution_count": 91,
   "id": "ec1c34d5",
   "metadata": {},
   "outputs": [
    {
     "data": {
      "text/html": [
       "<div>\n",
       "<style scoped>\n",
       "    .dataframe tbody tr th:only-of-type {\n",
       "        vertical-align: middle;\n",
       "    }\n",
       "\n",
       "    .dataframe tbody tr th {\n",
       "        vertical-align: top;\n",
       "    }\n",
       "\n",
       "    .dataframe thead th {\n",
       "        text-align: right;\n",
       "    }\n",
       "</style>\n",
       "<table border=\"1\" class=\"dataframe\">\n",
       "  <thead>\n",
       "    <tr style=\"text-align: right;\">\n",
       "      <th></th>\n",
       "      <th>Unnamed: 0</th>\n",
       "      <th>ماشین</th>\n",
       "      <th>لباسشویی</th>\n",
       "      <th>دوقلوی</th>\n",
       "      <th>کودک</th>\n",
       "      <th>سازنده</th>\n",
       "      <th>برند</th>\n",
       "      <th>قدیمی</th>\n",
       "      <th>ناسیونال</th>\n",
       "      <th>یک</th>\n",
       "      <th>...</th>\n",
       "      <th>فرمون</th>\n",
       "      <th>دوخته</th>\n",
       "      <th>فرزانگان</th>\n",
       "      <th>cat1</th>\n",
       "      <th>cat2</th>\n",
       "      <th>cat3</th>\n",
       "      <th>price</th>\n",
       "      <th>size</th>\n",
       "      <th>year</th>\n",
       "      <th>room_number</th>\n",
       "    </tr>\n",
       "  </thead>\n",
       "  <tbody>\n",
       "    <tr>\n",
       "      <th>0</th>\n",
       "      <td>0</td>\n",
       "      <td>1</td>\n",
       "      <td>1</td>\n",
       "      <td>1</td>\n",
       "      <td>1</td>\n",
       "      <td>1</td>\n",
       "      <td>1</td>\n",
       "      <td>1</td>\n",
       "      <td>1</td>\n",
       "      <td>1</td>\n",
       "      <td>...</td>\n",
       "      <td>0</td>\n",
       "      <td>0</td>\n",
       "      <td>0</td>\n",
       "      <td>home-kitchen</td>\n",
       "      <td>appliance</td>\n",
       "      <td>washing-machines</td>\n",
       "      <td>1850000.0</td>\n",
       "      <td>0</td>\n",
       "      <td>0</td>\n",
       "      <td>0</td>\n",
       "    </tr>\n",
       "    <tr>\n",
       "      <th>1</th>\n",
       "      <td>1</td>\n",
       "      <td>0</td>\n",
       "      <td>3</td>\n",
       "      <td>0</td>\n",
       "      <td>0</td>\n",
       "      <td>0</td>\n",
       "      <td>0</td>\n",
       "      <td>0</td>\n",
       "      <td>0</td>\n",
       "      <td>0</td>\n",
       "      <td>...</td>\n",
       "      <td>0</td>\n",
       "      <td>0</td>\n",
       "      <td>0</td>\n",
       "      <td>home-kitchen</td>\n",
       "      <td>appliance</td>\n",
       "      <td>washing-machines</td>\n",
       "      <td>8000000.0</td>\n",
       "      <td>0</td>\n",
       "      <td>0</td>\n",
       "      <td>0</td>\n",
       "    </tr>\n",
       "    <tr>\n",
       "      <th>2</th>\n",
       "      <td>2</td>\n",
       "      <td>3</td>\n",
       "      <td>2</td>\n",
       "      <td>0</td>\n",
       "      <td>0</td>\n",
       "      <td>0</td>\n",
       "      <td>0</td>\n",
       "      <td>0</td>\n",
       "      <td>0</td>\n",
       "      <td>0</td>\n",
       "      <td>...</td>\n",
       "      <td>0</td>\n",
       "      <td>0</td>\n",
       "      <td>0</td>\n",
       "      <td>home-kitchen</td>\n",
       "      <td>appliance</td>\n",
       "      <td>washing-machines</td>\n",
       "      <td>5500000.0</td>\n",
       "      <td>0</td>\n",
       "      <td>0</td>\n",
       "      <td>0</td>\n",
       "    </tr>\n",
       "    <tr>\n",
       "      <th>3</th>\n",
       "      <td>3</td>\n",
       "      <td>1</td>\n",
       "      <td>2</td>\n",
       "      <td>0</td>\n",
       "      <td>0</td>\n",
       "      <td>0</td>\n",
       "      <td>0</td>\n",
       "      <td>0</td>\n",
       "      <td>0</td>\n",
       "      <td>1</td>\n",
       "      <td>...</td>\n",
       "      <td>0</td>\n",
       "      <td>0</td>\n",
       "      <td>0</td>\n",
       "      <td>home-kitchen</td>\n",
       "      <td>appliance</td>\n",
       "      <td>washing-machines</td>\n",
       "      <td>500000.0</td>\n",
       "      <td>0</td>\n",
       "      <td>0</td>\n",
       "      <td>0</td>\n",
       "    </tr>\n",
       "    <tr>\n",
       "      <th>4</th>\n",
       "      <td>4</td>\n",
       "      <td>0</td>\n",
       "      <td>0</td>\n",
       "      <td>0</td>\n",
       "      <td>0</td>\n",
       "      <td>0</td>\n",
       "      <td>0</td>\n",
       "      <td>0</td>\n",
       "      <td>0</td>\n",
       "      <td>0</td>\n",
       "      <td>...</td>\n",
       "      <td>0</td>\n",
       "      <td>0</td>\n",
       "      <td>0</td>\n",
       "      <td>home-kitchen</td>\n",
       "      <td>appliance</td>\n",
       "      <td>washing-machines</td>\n",
       "      <td>12000000.0</td>\n",
       "      <td>0</td>\n",
       "      <td>0</td>\n",
       "      <td>0</td>\n",
       "    </tr>\n",
       "  </tbody>\n",
       "</table>\n",
       "<p>5 rows × 7308 columns</p>\n",
       "</div>"
      ],
      "text/plain": [
       "   Unnamed: 0  ماشین  لباسشویی  دوقلوی  کودک  سازنده  برند  قدیمی  ناسیونال  \\\n",
       "0           0      1         1       1     1       1     1      1         1   \n",
       "1           1      0         3       0     0       0     0      0         0   \n",
       "2           2      3         2       0     0       0     0      0         0   \n",
       "3           3      1         2       0     0       0     0      0         0   \n",
       "4           4      0         0       0     0       0     0      0         0   \n",
       "\n",
       "   یک  ...  فرمون  دوخته  فرزانگان          cat1       cat2              cat3  \\\n",
       "0   1  ...      0      0         0  home-kitchen  appliance  washing-machines   \n",
       "1   0  ...      0      0         0  home-kitchen  appliance  washing-machines   \n",
       "2   0  ...      0      0         0  home-kitchen  appliance  washing-machines   \n",
       "3   1  ...      0      0         0  home-kitchen  appliance  washing-machines   \n",
       "4   0  ...      0      0         0  home-kitchen  appliance  washing-machines   \n",
       "\n",
       "        price  size  year  room_number  \n",
       "0   1850000.0     0     0            0  \n",
       "1   8000000.0     0     0            0  \n",
       "2   5500000.0     0     0            0  \n",
       "3    500000.0     0     0            0  \n",
       "4  12000000.0     0     0            0  \n",
       "\n",
       "[5 rows x 7308 columns]"
      ]
     },
     "execution_count": 91,
     "metadata": {},
     "output_type": "execute_result"
    }
   ],
   "source": [
    "df = pd.read_csv(\"N_gram.csv\")\n",
    "df.head()"
   ]
  },
  {
   "cell_type": "code",
   "execution_count": 92,
   "id": "128286d2",
   "metadata": {},
   "outputs": [
    {
     "data": {
      "image/png": "[encoded data removed]",
      "text/plain": [
       "<Figure size 432x288 with 1 Axes>"
      ]
     },
     "metadata": {
      "needs_background": "light"
     },
     "output_type": "display_data"
    }
   ],
   "source": [
    "df.cat3.value_counts().plot(kind=\"bar\")\n",
    "plt.title(\"Value counts of the cat3 variable\")\n",
    "plt.xlabel(\"type\")\n",
    "plt.xticks(rotation=0)\n",
    "plt.ylabel(\"Count\")\n",
    "plt.show()"
   ]
  },
  {
   "cell_type": "code",
   "execution_count": 93,
   "id": "a40cfaff",
   "metadata": {},
   "outputs": [],
   "source": [
    "buy_office = df[df['cat3']== 'buy-office']"
   ]
  },
  {
   "cell_type": "code",
   "execution_count": 94,
   "id": "4ad51262",
   "metadata": {},
   "outputs": [
    {
     "data": {
      "text/plain": [
       "array(['washing-machines', 'buy-apartment', 'buy-office', 'car'],\n",
       "      dtype=object)"
      ]
     },
     "execution_count": 94,
     "metadata": {},
     "output_type": "execute_result"
    }
   ],
   "source": [
    "df.cat3.unique()"
   ]
  },
  {
   "cell_type": "code",
   "execution_count": 95,
   "id": "c71a67cf",
   "metadata": {},
   "outputs": [],
   "source": [
    "number = len(buy_office)"
   ]
  },
  {
   "cell_type": "code",
   "execution_count": 96,
   "id": "409f68ba",
   "metadata": {},
   "outputs": [],
   "source": [
    "df1 = df[df['cat3'] == 'washing-machines'].sample(number)\n",
    "df2 = df[df['cat3'] == 'buy-apartment'].sample(number)\n",
    "df3 = df[df['cat3'] == 'buy-office'].sample(number)\n",
    "df4 = df[df['cat3'] == 'car'].sample(number)"
   ]
  },
  {
   "cell_type": "code",
   "execution_count": 97,
   "id": "3bbbed1b",
   "metadata": {},
   "outputs": [
    {
     "data": {
      "text/html": [
       "<div>\n",
       "<style scoped>\n",
       "    .dataframe tbody tr th:only-of-type {\n",
       "        vertical-align: middle;\n",
       "    }\n",
       "\n",
       "    .dataframe tbody tr th {\n",
       "        vertical-align: top;\n",
       "    }\n",
       "\n",
       "    .dataframe thead th {\n",
       "        text-align: right;\n",
       "    }\n",
       "</style>\n",
       "<table border=\"1\" class=\"dataframe\">\n",
       "  <thead>\n",
       "    <tr style=\"text-align: right;\">\n",
       "      <th></th>\n",
       "      <th>Unnamed: 0</th>\n",
       "      <th>ماشین</th>\n",
       "      <th>لباسشویی</th>\n",
       "      <th>دوقلوی</th>\n",
       "      <th>کودک</th>\n",
       "      <th>سازنده</th>\n",
       "      <th>برند</th>\n",
       "      <th>قدیمی</th>\n",
       "      <th>ناسیونال</th>\n",
       "      <th>یک</th>\n",
       "      <th>...</th>\n",
       "      <th>فرمون</th>\n",
       "      <th>دوخته</th>\n",
       "      <th>فرزانگان</th>\n",
       "      <th>cat1</th>\n",
       "      <th>cat2</th>\n",
       "      <th>cat3</th>\n",
       "      <th>price</th>\n",
       "      <th>size</th>\n",
       "      <th>year</th>\n",
       "      <th>room_number</th>\n",
       "    </tr>\n",
       "  </thead>\n",
       "  <tbody>\n",
       "    <tr>\n",
       "      <th>99</th>\n",
       "      <td>99</td>\n",
       "      <td>0</td>\n",
       "      <td>1</td>\n",
       "      <td>0</td>\n",
       "      <td>0</td>\n",
       "      <td>0</td>\n",
       "      <td>0</td>\n",
       "      <td>0</td>\n",
       "      <td>0</td>\n",
       "      <td>0</td>\n",
       "      <td>...</td>\n",
       "      <td>0</td>\n",
       "      <td>0</td>\n",
       "      <td>0</td>\n",
       "      <td>home-kitchen</td>\n",
       "      <td>appliance</td>\n",
       "      <td>washing-machines</td>\n",
       "      <td>6000000.0</td>\n",
       "      <td>0</td>\n",
       "      <td>0</td>\n",
       "      <td>0</td>\n",
       "    </tr>\n",
       "    <tr>\n",
       "      <th>205</th>\n",
       "      <td>205</td>\n",
       "      <td>0</td>\n",
       "      <td>2</td>\n",
       "      <td>0</td>\n",
       "      <td>0</td>\n",
       "      <td>0</td>\n",
       "      <td>0</td>\n",
       "      <td>0</td>\n",
       "      <td>0</td>\n",
       "      <td>0</td>\n",
       "      <td>...</td>\n",
       "      <td>0</td>\n",
       "      <td>0</td>\n",
       "      <td>0</td>\n",
       "      <td>home-kitchen</td>\n",
       "      <td>appliance</td>\n",
       "      <td>washing-machines</td>\n",
       "      <td>8000000.0</td>\n",
       "      <td>0</td>\n",
       "      <td>0</td>\n",
       "      <td>0</td>\n",
       "    </tr>\n",
       "    <tr>\n",
       "      <th>73</th>\n",
       "      <td>73</td>\n",
       "      <td>1</td>\n",
       "      <td>1</td>\n",
       "      <td>0</td>\n",
       "      <td>0</td>\n",
       "      <td>0</td>\n",
       "      <td>0</td>\n",
       "      <td>0</td>\n",
       "      <td>0</td>\n",
       "      <td>0</td>\n",
       "      <td>...</td>\n",
       "      <td>0</td>\n",
       "      <td>0</td>\n",
       "      <td>0</td>\n",
       "      <td>home-kitchen</td>\n",
       "      <td>appliance</td>\n",
       "      <td>washing-machines</td>\n",
       "      <td>18000000.0</td>\n",
       "      <td>0</td>\n",
       "      <td>0</td>\n",
       "      <td>0</td>\n",
       "    </tr>\n",
       "    <tr>\n",
       "      <th>96</th>\n",
       "      <td>96</td>\n",
       "      <td>2</td>\n",
       "      <td>2</td>\n",
       "      <td>0</td>\n",
       "      <td>0</td>\n",
       "      <td>0</td>\n",
       "      <td>0</td>\n",
       "      <td>0</td>\n",
       "      <td>0</td>\n",
       "      <td>1</td>\n",
       "      <td>...</td>\n",
       "      <td>0</td>\n",
       "      <td>0</td>\n",
       "      <td>0</td>\n",
       "      <td>home-kitchen</td>\n",
       "      <td>appliance</td>\n",
       "      <td>washing-machines</td>\n",
       "      <td>1700000.0</td>\n",
       "      <td>0</td>\n",
       "      <td>0</td>\n",
       "      <td>0</td>\n",
       "    </tr>\n",
       "    <tr>\n",
       "      <th>13</th>\n",
       "      <td>13</td>\n",
       "      <td>0</td>\n",
       "      <td>0</td>\n",
       "      <td>0</td>\n",
       "      <td>0</td>\n",
       "      <td>0</td>\n",
       "      <td>0</td>\n",
       "      <td>0</td>\n",
       "      <td>0</td>\n",
       "      <td>0</td>\n",
       "      <td>...</td>\n",
       "      <td>0</td>\n",
       "      <td>0</td>\n",
       "      <td>0</td>\n",
       "      <td>home-kitchen</td>\n",
       "      <td>appliance</td>\n",
       "      <td>washing-machines</td>\n",
       "      <td>1000000.0</td>\n",
       "      <td>0</td>\n",
       "      <td>0</td>\n",
       "      <td>0</td>\n",
       "    </tr>\n",
       "  </tbody>\n",
       "</table>\n",
       "<p>5 rows × 7308 columns</p>\n",
       "</div>"
      ],
      "text/plain": [
       "     Unnamed: 0  ماشین  لباسشویی  دوقلوی  کودک  سازنده  برند  قدیمی  ناسیونال  \\\n",
       "99           99      0         1       0     0       0     0      0         0   \n",
       "205         205      0         2       0     0       0     0      0         0   \n",
       "73           73      1         1       0     0       0     0      0         0   \n",
       "96           96      2         2       0     0       0     0      0         0   \n",
       "13           13      0         0       0     0       0     0      0         0   \n",
       "\n",
       "     یک  ...  فرمون  دوخته  فرزانگان          cat1       cat2  \\\n",
       "99    0  ...      0      0         0  home-kitchen  appliance   \n",
       "205   0  ...      0      0         0  home-kitchen  appliance   \n",
       "73    0  ...      0      0         0  home-kitchen  appliance   \n",
       "96    1  ...      0      0         0  home-kitchen  appliance   \n",
       "13    0  ...      0      0         0  home-kitchen  appliance   \n",
       "\n",
       "                 cat3       price  size  year  room_number  \n",
       "99   washing-machines   6000000.0     0     0            0  \n",
       "205  washing-machines   8000000.0     0     0            0  \n",
       "73   washing-machines  18000000.0     0     0            0  \n",
       "96   washing-machines   1700000.0     0     0            0  \n",
       "13   washing-machines   1000000.0     0     0            0  \n",
       "\n",
       "[5 rows x 7308 columns]"
      ]
     },
     "execution_count": 97,
     "metadata": {},
     "output_type": "execute_result"
    }
   ],
   "source": [
    "frames = [df1, df2, df3, df4]\n",
    "cat3_df = pd.concat(frames)\n",
    "cat3_df.head()"
   ]
  },
  {
   "cell_type": "code",
   "execution_count": 98,
   "id": "26d5c897",
   "metadata": {},
   "outputs": [],
   "source": [
    "cat3_df['cat3'] = cat3_df['cat3'].str.replace('washing-machines','1')\n",
    "cat3_df['cat3'] = cat3_df['cat3'].str.replace('buy-apartment','2')\n",
    "cat3_df['cat3'] = cat3_df['cat3'].str.replace('buy-office','3')\n",
    "cat3_df['cat3'] = cat3_df['cat3'].str.replace('car','4')"
   ]
  },
  {
   "cell_type": "code",
   "execution_count": 100,
   "id": "c499811e",
   "metadata": {},
   "outputs": [],
   "source": [
    "idx=cat3_df.columns.get_loc(\"cat3\")\n",
    "y = cat3_df.iloc[:, idx].values\n",
    "target = []\n",
    "for i in y :\n",
    "    target.append(int(i))"
   ]
  },
  {
   "cell_type": "code",
   "execution_count": 101,
   "id": "e052f66c",
   "metadata": {},
   "outputs": [],
   "source": [
    "cat3_df = cat3_df.drop('Unnamed: 0',axis=1)\n",
    "cat3_df = cat3_df.drop('cat1',axis=1)\n",
    "cat3_df = cat3_df.drop('cat2',axis=1)\n",
    "x = cat3_df.drop('cat3', axis=1)\n",
    "x = cat3_df.drop('price', axis=1)"
   ]
  },
  {
   "cell_type": "code",
   "execution_count": 102,
   "id": "f2ff9567",
   "metadata": {},
   "outputs": [],
   "source": [
    "x = x.reset_index()"
   ]
  },
  {
   "cell_type": "code",
   "execution_count": 103,
   "id": "4a6c3c63",
   "metadata": {},
   "outputs": [],
   "source": [
    "from sklearn.model_selection import train_test_split  \n",
    "X_train, X_test, y_train, y_test = train_test_split( x , y, test_size=0.2, random_state=0)"
   ]
  },
  {
   "cell_type": "code",
   "execution_count": 104,
   "id": "fcb9b8a3",
   "metadata": {},
   "outputs": [
    {
     "data": {
      "text/plain": [
       "RandomForestClassifier(random_state=0)"
      ]
     },
     "execution_count": 104,
     "metadata": {},
     "output_type": "execute_result"
    }
   ],
   "source": [
    "\n",
    "from sklearn.ensemble import RandomForestClassifier\n",
    "text_classifier = RandomForestClassifier(n_estimators=100, random_state=0)  \n",
    "text_classifier.fit(X_train, y_train)"
   ]
  },
  {
   "cell_type": "code",
   "execution_count": 105,
   "id": "f4b8f22c",
   "metadata": {},
   "outputs": [],
   "source": [
    "\n",
    "predictions = text_classifier.predict(X_test)"
   ]
  },
  {
   "cell_type": "code",
   "execution_count": 106,
   "id": "33540be2",
   "metadata": {},
   "outputs": [
    {
     "name": "stdout",
     "output_type": "stream",
     "text": [
      "[[30  0  0  0]\n",
      " [ 0 40  0  0]\n",
      " [ 0  1 43  0]\n",
      " [ 0  0  0 36]]\n"
     ]
    }
   ],
   "source": [
    "from sklearn.metrics import classification_report, confusion_matrix, accuracy_score\n",
    " \n",
    "print(confusion_matrix(y_test,predictions))  \n"
   ]
  },
  {
   "cell_type": "code",
   "execution_count": 107,
   "id": "ae064b1c",
   "metadata": {},
   "outputs": [
    {
     "name": "stdout",
     "output_type": "stream",
     "text": [
      "              precision    recall  f1-score   support\n",
      "\n",
      "           1       1.00      1.00      1.00        30\n",
      "           2       0.98      1.00      0.99        40\n",
      "           3       1.00      0.98      0.99        44\n",
      "           4       1.00      1.00      1.00        36\n",
      "\n",
      "    accuracy                           0.99       150\n",
      "   macro avg       0.99      0.99      0.99       150\n",
      "weighted avg       0.99      0.99      0.99       150\n",
      "\n"
     ]
    }
   ],
   "source": [
    "print(classification_report(y_test,predictions))  \n"
   ]
  },
  {
   "cell_type": "code",
   "execution_count": 108,
   "id": "c6fba0f7",
   "metadata": {},
   "outputs": [
    {
     "name": "stdout",
     "output_type": "stream",
     "text": [
      "0.9933333333333333\n"
     ]
    }
   ],
   "source": [
    "print(accuracy_score(y_test, predictions))"
   ]
  }
 ],
 "metadata": {
  "kernelspec": {
   "display_name": "Python 3 (ipykernel)",
   "language": "python",
   "name": "python3"
  },
  "language_info": {
   "codemirror_mode": {
    "name": "ipython",
    "version": 3
   },
   "file_extension": ".py",
   "mimetype": "text/x-python",
   "name": "python",
   "nbconvert_exporter": "python",
   "pygments_lexer": "ipython3",
   "version": "3.9.7"
  }
 },
 "nbformat": 4,
 "nbformat_minor": 5
}
