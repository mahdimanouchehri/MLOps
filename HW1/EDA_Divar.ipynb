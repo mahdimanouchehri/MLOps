{
 "cells": [
  {
   "cell_type": "code",
   "execution_count": 52,
   "id": "0332a1ba",
   "metadata": {},
   "outputs": [
    {
     "name": "stdout",
     "output_type": "stream",
     "text": [
      "Requirement already satisfied: unidecode in c:\\users\\jahannama\\anaconda3\\lib\\site-packages (1.2.0)\n"
     ]
    }
   ],
   "source": [
    "! pip install unidecode"
   ]
  },
  {
   "cell_type": "code",
   "execution_count": 176,
   "id": "70821eed",
   "metadata": {},
   "outputs": [],
   "source": [
    "import pandas as pd \n",
    "from unidecode import unidecode\n",
    "import numpy as np\n",
    "import matplotlib.pyplot as plt\n",
    "from matplotlib import rcParams\n",
    "import seaborn as sns\n",
    "from sklearn.datasets import load_wine\n",
    "\n",
    "\n"
   ]
  },
  {
   "cell_type": "code",
   "execution_count": 20,
   "id": "e0da6a81",
   "metadata": {},
   "outputs": [
    {
     "data": {
      "text/html": [
       "<div>\n",
       "<style scoped>\n",
       "    .dataframe tbody tr th:only-of-type {\n",
       "        vertical-align: middle;\n",
       "    }\n",
       "\n",
       "    .dataframe tbody tr th {\n",
       "        vertical-align: top;\n",
       "    }\n",
       "\n",
       "    .dataframe thead th {\n",
       "        text-align: right;\n",
       "    }\n",
       "</style>\n",
       "<table border=\"1\" class=\"dataframe\">\n",
       "  <thead>\n",
       "    <tr style=\"text-align: right;\">\n",
       "      <th></th>\n",
       "      <th>cat1</th>\n",
       "      <th>cat2</th>\n",
       "      <th>cat3</th>\n",
       "      <th>title</th>\n",
       "      <th>description</th>\n",
       "      <th>url</th>\n",
       "      <th>sub_title</th>\n",
       "      <th>price</th>\n",
       "      <th>size</th>\n",
       "      <th>year</th>\n",
       "      <th>room_number</th>\n",
       "      <th>color</th>\n",
       "      <th>mileage</th>\n",
       "      <th>CPU</th>\n",
       "      <th>RAM</th>\n",
       "    </tr>\n",
       "  </thead>\n",
       "  <tbody>\n",
       "    <tr>\n",
       "      <th>0</th>\n",
       "      <td>home-kitchen</td>\n",
       "      <td>appliance</td>\n",
       "      <td>washing-machines</td>\n",
       "      <td>ماشین لباسشویی دوقلوی کودک</td>\n",
       "      <td>سازنده برند قدیمی ناسیونال</td>\n",
       "      <td>https://divar.ir/v/ماشین-لباسشویی-دوقلوی-کودک_...</td>\n",
       "      <td>یک ربع پیش در تهران، جوانمرد قصاب</td>\n",
       "      <td>۱٬۸۵۰٬۰۰۰</td>\n",
       "      <td>NaN</td>\n",
       "      <td>NaN</td>\n",
       "      <td>NaN</td>\n",
       "      <td>NaN</td>\n",
       "      <td>NaN</td>\n",
       "      <td>NaN</td>\n",
       "      <td>NaN</td>\n",
       "    </tr>\n",
       "    <tr>\n",
       "      <th>1</th>\n",
       "      <td>home-kitchen</td>\n",
       "      <td>appliance</td>\n",
       "      <td>washing-machines</td>\n",
       "      <td>لباسشویی بست BOST</td>\n",
       "      <td>لباسشویی کاملا سالم خدارو شکر مشکلی نداره از ه...</td>\n",
       "      <td>https://divar.ir/v/لباسشویی-بست-bost_ماشین-لبا...</td>\n",
       "      <td>نیم ساعت پیش در تهران، آذربایجان</td>\n",
       "      <td>۸٬۰۰۰٬۰۰۰</td>\n",
       "      <td>NaN</td>\n",
       "      <td>NaN</td>\n",
       "      <td>NaN</td>\n",
       "      <td>NaN</td>\n",
       "      <td>NaN</td>\n",
       "      <td>NaN</td>\n",
       "      <td>NaN</td>\n",
       "    </tr>\n",
       "    <tr>\n",
       "      <th>2</th>\n",
       "      <td>home-kitchen</td>\n",
       "      <td>appliance</td>\n",
       "      <td>washing-machines</td>\n",
       "      <td>ماشین لباسشویی سامسونگ</td>\n",
       "      <td>ماشین لباسشویی سامسونگ کره ای اصلی سالم تمیز ب...</td>\n",
       "      <td>https://divar.ir/v/ماشین-لباسشویی-سامسونگ_ماشی...</td>\n",
       "      <td>نیم ساعت پیش در تهران، ابن بابویه</td>\n",
       "      <td>۵٬۵۰۰٬۰۰۰</td>\n",
       "      <td>NaN</td>\n",
       "      <td>NaN</td>\n",
       "      <td>NaN</td>\n",
       "      <td>NaN</td>\n",
       "      <td>NaN</td>\n",
       "      <td>NaN</td>\n",
       "      <td>NaN</td>\n",
       "    </tr>\n",
       "    <tr>\n",
       "      <th>3</th>\n",
       "      <td>home-kitchen</td>\n",
       "      <td>appliance</td>\n",
       "      <td>washing-machines</td>\n",
       "      <td>موتور لباسشویی هایر</td>\n",
       "      <td>یک عدد موتور لباسشویی برای همه ماشین لباسشویی ...</td>\n",
       "      <td>https://divar.ir/v/موتور-لباسشویی-هایر_ماشین-ل...</td>\n",
       "      <td>۱ ساعت پیش در تهران، جنت‌آباد جنوبی</td>\n",
       "      <td>۵۰۰٬۰۰۰</td>\n",
       "      <td>NaN</td>\n",
       "      <td>NaN</td>\n",
       "      <td>NaN</td>\n",
       "      <td>NaN</td>\n",
       "      <td>NaN</td>\n",
       "      <td>NaN</td>\n",
       "      <td>NaN</td>\n",
       "    </tr>\n",
       "    <tr>\n",
       "      <th>4</th>\n",
       "      <td>home-kitchen</td>\n",
       "      <td>appliance</td>\n",
       "      <td>washing-machines</td>\n",
       "      <td>لباسشوئی سامسونگ</td>\n",
       "      <td>ساعات پاسخگویی ۲۰-۹\\n\\nتوجه:\\nقیمت کالا مقطوع ...</td>\n",
       "      <td>https://divar.ir/v/لباسشوئی-سامسونگ_ماشین-لباس...</td>\n",
       "      <td>۱ ساعت پیش در تهران، جنت‌آباد شمالی</td>\n",
       "      <td>۱۲٬۰۰۰٬۰۰۰</td>\n",
       "      <td>NaN</td>\n",
       "      <td>NaN</td>\n",
       "      <td>NaN</td>\n",
       "      <td>NaN</td>\n",
       "      <td>NaN</td>\n",
       "      <td>NaN</td>\n",
       "      <td>NaN</td>\n",
       "    </tr>\n",
       "  </tbody>\n",
       "</table>\n",
       "</div>"
      ],
      "text/plain": [
       "           cat1       cat2              cat3                       title  \\\n",
       "0  home-kitchen  appliance  washing-machines  ماشین لباسشویی دوقلوی کودک   \n",
       "1  home-kitchen  appliance  washing-machines           لباسشویی بست BOST   \n",
       "2  home-kitchen  appliance  washing-machines      ماشین لباسشویی سامسونگ   \n",
       "3  home-kitchen  appliance  washing-machines         موتور لباسشویی هایر   \n",
       "4  home-kitchen  appliance  washing-machines            لباسشوئی سامسونگ   \n",
       "\n",
       "                                         description  \\\n",
       "0                         سازنده برند قدیمی ناسیونال   \n",
       "1  لباسشویی کاملا سالم خدارو شکر مشکلی نداره از ه...   \n",
       "2  ماشین لباسشویی سامسونگ کره ای اصلی سالم تمیز ب...   \n",
       "3  یک عدد موتور لباسشویی برای همه ماشین لباسشویی ...   \n",
       "4  ساعات پاسخگویی ۲۰-۹\\n\\nتوجه:\\nقیمت کالا مقطوع ...   \n",
       "\n",
       "                                                 url  \\\n",
       "0  https://divar.ir/v/ماشین-لباسشویی-دوقلوی-کودک_...   \n",
       "1  https://divar.ir/v/لباسشویی-بست-bost_ماشین-لبا...   \n",
       "2  https://divar.ir/v/ماشین-لباسشویی-سامسونگ_ماشی...   \n",
       "3  https://divar.ir/v/موتور-لباسشویی-هایر_ماشین-ل...   \n",
       "4  https://divar.ir/v/لباسشوئی-سامسونگ_ماشین-لباس...   \n",
       "\n",
       "                             sub_title        price size year room_number  \\\n",
       "0    یک ربع پیش در تهران، جوانمرد قصاب    ۱٬۸۵۰٬۰۰۰  NaN  NaN         NaN   \n",
       "1     نیم ساعت پیش در تهران، آذربایجان    ۸٬۰۰۰٬۰۰۰  NaN  NaN         NaN   \n",
       "2    نیم ساعت پیش در تهران، ابن بابویه   ۵٬۵۰۰٬۰۰۰   NaN  NaN         NaN   \n",
       "3  ۱ ساعت پیش در تهران، جنت‌آباد جنوبی      ۵۰۰٬۰۰۰  NaN  NaN         NaN   \n",
       "4  ۱ ساعت پیش در تهران، جنت‌آباد شمالی  ۱۲٬۰۰۰٬۰۰۰   NaN  NaN         NaN   \n",
       "\n",
       "   color  mileage  CPU  RAM  \n",
       "0    NaN      NaN  NaN  NaN  \n",
       "1    NaN      NaN  NaN  NaN  \n",
       "2    NaN      NaN  NaN  NaN  \n",
       "3    NaN      NaN  NaN  NaN  \n",
       "4    NaN      NaN  NaN  NaN  "
      ]
     },
     "execution_count": 20,
     "metadata": {},
     "output_type": "execute_result"
    }
   ],
   "source": [
    "df1 = pd.read_csv('washing-machines.csv')\n",
    "df2 = pd.read_csv('buy-apartment.csv')\n",
    "df3 = pd.read_csv('buy-villa.csv')\n",
    "df4 = pd.read_csv('buy-office.csv')   \n",
    "df5 = pd.read_csv('car.csv')\n",
    "frames = [df1 , df2 , df3 , df4 , df5]\n",
    "df = pd.concat(frames)\n",
    "# df = result.drop_duplicates()\n",
    "df = df.reset_index()\n",
    "df = df.drop(df.columns[0:2], axis=1)\n",
    "df.head()"
   ]
  },
  {
   "cell_type": "code",
   "execution_count": 22,
   "id": "f7c225a2",
   "metadata": {},
   "outputs": [],
   "source": [
    "df.to_csv('Dataset_Divar.csv')"
   ]
  },
  {
   "cell_type": "code",
   "execution_count": 168,
   "id": "89f451ba",
   "metadata": {},
   "outputs": [],
   "source": [
    "df = pd.read_csv('Dataset_Divar.csv')\n",
    "df = df.drop(df.columns[0], axis=1)"
   ]
  },
  {
   "cell_type": "code",
   "execution_count": 169,
   "id": "e307f769",
   "metadata": {},
   "outputs": [],
   "source": [
    "df = df.drop(columns=['CPU','RAM','color','mileage'])"
   ]
  },
  {
   "cell_type": "code",
   "execution_count": 170,
   "id": "773d5dd6",
   "metadata": {},
   "outputs": [
    {
     "name": "stderr",
     "output_type": "stream",
     "text": [
      "C:\\Users\\JAHANN~1\\AppData\\Local\\Temp/ipykernel_748/425534407.py:23: FutureWarning: The default value of regex will change from True to False in a future version. In addition, single character regular expressions will *not* be treated as literal strings when regex=True.\n",
      "  df['room_number'] = df['room_number'].str.replace('+','')\n"
     ]
    }
   ],
   "source": [
    "\n",
    "#### clear value of columns\n",
    "\n",
    "drop_index = df[ (df['price'] == \"ویلای جنگلی-کوهستانی\") | \n",
    "                (df['price'] == \"ویلای جنگلی\") | \n",
    "                (df['price'] == \"قسط\") | \n",
    "                (df['price'] == \"سایر\") ].index\n",
    "df = df.drop(drop_index)\n",
    "\n",
    "###convert NaN to zero \n",
    "df[\"price\"] = df['price'].fillna('0')\n",
    "df[\"size\"] = df['size'].fillna('0')\n",
    "df[\"year\"] = df['year'].fillna('0')\n",
    "df[\"room_number\"] = df['room_number'].fillna('0')\n",
    "\n",
    "###convert persian to en\n",
    "df['price'] = [unidecode(numbers) for numbers in df['price']]\n",
    "df['size'] = [unidecode(numbers) for numbers in df['size']]\n",
    "df['year'] = [unidecode(numbers) for numbers in df['year']]\n",
    "df['room_number'] = [unidecode(numbers) for numbers in df['room_number']]\n",
    "\n",
    "### delete , and NAN\n",
    "df['price'] = df['price'].str.replace(',','')\n",
    "df['price'] = df['price'].str.replace('NAN','0')\n",
    "df['room_number'] = df['room_number'].str.replace('+','')\n",
    "\n",
    "##convert strings into integers\n",
    "df['price'] = pd.to_numeric(df['price'], errors='coerce')\n",
    "df['size'] = pd.to_numeric(df['size'], errors='coerce')\n",
    "df['year'] = pd.to_numeric(df['year'], errors='coerce')\n",
    "df['room_number'] = pd.to_numeric(df['room_number'], errors='coerce')\n"
   ]
  },
  {
   "cell_type": "code",
   "execution_count": 171,
   "id": "c74cf8c6",
   "metadata": {},
   "outputs": [],
   "source": [
    "df = df.reset_index()"
   ]
  },
  {
   "cell_type": "code",
   "execution_count": 174,
   "id": "0ae5ad39",
   "metadata": {},
   "outputs": [
    {
     "data": {
      "text/html": [
       "<div>\n",
       "<style scoped>\n",
       "    .dataframe tbody tr th:only-of-type {\n",
       "        vertical-align: middle;\n",
       "    }\n",
       "\n",
       "    .dataframe tbody tr th {\n",
       "        vertical-align: top;\n",
       "    }\n",
       "\n",
       "    .dataframe thead th {\n",
       "        text-align: right;\n",
       "    }\n",
       "</style>\n",
       "<table border=\"1\" class=\"dataframe\">\n",
       "  <thead>\n",
       "    <tr style=\"text-align: right;\">\n",
       "      <th></th>\n",
       "      <th>index</th>\n",
       "      <th>price</th>\n",
       "      <th>size</th>\n",
       "      <th>year</th>\n",
       "      <th>room_number</th>\n",
       "    </tr>\n",
       "  </thead>\n",
       "  <tbody>\n",
       "    <tr>\n",
       "      <th>index</th>\n",
       "      <td>1.000000</td>\n",
       "      <td>0.023488</td>\n",
       "      <td>0.023108</td>\n",
       "      <td>0.045834</td>\n",
       "      <td>-0.011991</td>\n",
       "    </tr>\n",
       "    <tr>\n",
       "      <th>price</th>\n",
       "      <td>0.023488</td>\n",
       "      <td>1.000000</td>\n",
       "      <td>0.769367</td>\n",
       "      <td>0.168110</td>\n",
       "      <td>0.220374</td>\n",
       "    </tr>\n",
       "    <tr>\n",
       "      <th>size</th>\n",
       "      <td>0.023108</td>\n",
       "      <td>0.769367</td>\n",
       "      <td>1.000000</td>\n",
       "      <td>0.244896</td>\n",
       "      <td>0.308174</td>\n",
       "    </tr>\n",
       "    <tr>\n",
       "      <th>year</th>\n",
       "      <td>0.045834</td>\n",
       "      <td>0.168110</td>\n",
       "      <td>0.244896</td>\n",
       "      <td>1.000000</td>\n",
       "      <td>0.777734</td>\n",
       "    </tr>\n",
       "    <tr>\n",
       "      <th>room_number</th>\n",
       "      <td>-0.011991</td>\n",
       "      <td>0.220374</td>\n",
       "      <td>0.308174</td>\n",
       "      <td>0.777734</td>\n",
       "      <td>1.000000</td>\n",
       "    </tr>\n",
       "  </tbody>\n",
       "</table>\n",
       "</div>"
      ],
      "text/plain": [
       "                index     price      size      year  room_number\n",
       "index        1.000000  0.023488  0.023108  0.045834    -0.011991\n",
       "price        0.023488  1.000000  0.769367  0.168110     0.220374\n",
       "size         0.023108  0.769367  1.000000  0.244896     0.308174\n",
       "year         0.045834  0.168110  0.244896  1.000000     0.777734\n",
       "room_number -0.011991  0.220374  0.308174  0.777734     1.000000"
      ]
     },
     "execution_count": 174,
     "metadata": {},
     "output_type": "execute_result"
    }
   ],
   "source": [
    "df.corr()"
   ]
  },
  {
   "cell_type": "code",
   "execution_count": 175,
   "id": "6a434c35",
   "metadata": {},
   "outputs": [
    {
     "name": "stdout",
     "output_type": "stream",
     "text": [
      "<class 'pandas.core.frame.DataFrame'>\n",
      "RangeIndex: 1017 entries, 0 to 1016\n",
      "Data columns (total 12 columns):\n",
      " #   Column       Non-Null Count  Dtype  \n",
      "---  ------       --------------  -----  \n",
      " 0   index        1017 non-null   int64  \n",
      " 1   cat1         1017 non-null   object \n",
      " 2   cat2         1017 non-null   object \n",
      " 3   cat3         1017 non-null   object \n",
      " 4   title        1017 non-null   object \n",
      " 5   description  1017 non-null   object \n",
      " 6   url          1017 non-null   object \n",
      " 7   sub_title    1017 non-null   object \n",
      " 8   price        1016 non-null   float64\n",
      " 9   size         1017 non-null   int64  \n",
      " 10  year         1017 non-null   int64  \n",
      " 11  room_number  1017 non-null   int64  \n",
      "dtypes: float64(1), int64(4), object(7)\n",
      "memory usage: 95.5+ KB\n"
     ]
    }
   ],
   "source": [
    "df.info()"
   ]
  },
  {
   "cell_type": "code",
   "execution_count": 182,
   "id": "a34e275e",
   "metadata": {},
   "outputs": [
    {
     "data": {
      "image/png": "[encoded data removed]",
      "text/plain": [
       "<Figure size 432x288 with 1 Axes>"
      ]
     },
     "metadata": {
      "needs_background": "light"
     },
     "output_type": "display_data"
    }
   ],
   "source": [
    "######Value counts of the cat variable\n",
    "\n",
    "df.cat3.value_counts().plot(kind=\"bar\")\n",
    "plt.title(\"Value counts of the cat variable\")\n",
    "plt.xlabel(\"type\")\n",
    "plt.xticks(rotation=0)\n",
    "plt.ylabel(\"Count\")\n",
    "plt.show()"
   ]
  },
  {
   "cell_type": "code",
   "execution_count": 183,
   "id": "94905b63",
   "metadata": {},
   "outputs": [
    {
     "data": {
      "image/png": "[encoded data removed]",
      "text/plain": [
       "<Figure size 432x288 with 1 Axes>"
      ]
     },
     "metadata": {
      "needs_background": "light"
     },
     "output_type": "display_data"
    }
   ],
   "source": [
    "df.cat1.value_counts().plot(kind=\"bar\")\n",
    "plt.title(\"Value counts of the cat1 \")\n",
    "plt.xlabel(\" type\")\n",
    "plt.xticks(rotation=0)\n",
    "plt.ylabel(\"Count\")\n",
    "plt.show()"
   ]
  },
  {
   "cell_type": "code",
   "execution_count": 184,
   "id": "0af44e1d",
   "metadata": {},
   "outputs": [
    {
     "data": {
      "image/png": "[encoded data removed]",
      "text/plain": [
       "<Figure size 432x288 with 1 Axes>"
      ]
     },
     "metadata": {
      "needs_background": "light"
     },
     "output_type": "display_data"
    }
   ],
   "source": [
    "df.cat2.value_counts().plot(kind=\"bar\")\n",
    "plt.title(\"Value counts of the cat2 \")\n",
    "plt.xlabel(\" type\")\n",
    "plt.xticks(rotation=0)\n",
    "plt.ylabel(\"Count\")\n",
    "plt.show()"
   ]
  },
  {
   "cell_type": "code",
   "execution_count": null,
   "id": "3cc3aa8b",
   "metadata": {},
   "outputs": [],
   "source": []
  },
  {
   "cell_type": "markdown",
   "id": "8e5378cf",
   "metadata": {},
   "source": [
    "\n",
    "\n",
    "\n"
   ]
  },
  {
   "cell_type": "code",
   "execution_count": 179,
   "id": "5a362ceb",
   "metadata": {},
   "outputs": [
    {
     "name": "stdout",
     "output_type": "stream",
     "text": [
      "minimum of price  : 0.0\n",
      "maximum of price  : 250000000000.0\n",
      "mean of price  : 3024927846.0826774\n",
      "variance  of price  : 1.655265704031468e+20\n"
     ]
    },
    {
     "data": {
      "text/plain": [
       "<AxesSubplot:ylabel='Density'>"
      ]
     },
     "execution_count": 179,
     "metadata": {},
     "output_type": "execute_result"
    },
    {
     "data": {
      "image/png": "[encoded data removed]",
      "text/plain": [
       "<Figure size 432x288 with 1 Axes>"
      ]
     },
     "metadata": {
      "needs_background": "light"
     },
     "output_type": "display_data"
    }
   ],
   "source": [
    "print('minimum of price  :', df.price.min() )\n",
    "print('maximum of price  :', df.price.max() )\n",
    "print('mean of price  :', df.price.mean() )\n",
    "print('variance  of price  :', df.price.var () )\n",
    "df['price'].plot(kind='kde')"
   ]
  },
  {
   "cell_type": "code",
   "execution_count": 180,
   "id": "1bbb78ad",
   "metadata": {},
   "outputs": [
    {
     "data": {
      "text/plain": [
       "0"
      ]
     },
     "execution_count": 180,
     "metadata": {},
     "output_type": "execute_result"
    }
   ],
   "source": [
    "df.duplicated().sum()"
   ]
  },
  {
   "cell_type": "markdown",
   "id": "7bdbdd5e",
   "metadata": {},
   "source": [
    "\n",
    "\n",
    "\n",
    "\n",
    "\n",
    "\n"
   ]
  },
  {
   "cell_type": "code",
   "execution_count": 181,
   "id": "ebea48c8",
   "metadata": {},
   "outputs": [],
   "source": [
    "df.to_csv('Dataset_Divar_EDA.csv')"
   ]
  }
 ],
 "metadata": {
  "kernelspec": {
   "display_name": "Python 3 (ipykernel)",
   "language": "python",
   "name": "python3"
  },
  "language_info": {
   "codemirror_mode": {
    "name": "ipython",
    "version": 3
   },
   "file_extension": ".py",
   "mimetype": "text/x-python",
   "name": "python",
   "nbconvert_exporter": "python",
   "pygments_lexer": "ipython3",
   "version": "3.9.7"
  }
 },
 "nbformat": 4,
 "nbformat_minor": 5
}
