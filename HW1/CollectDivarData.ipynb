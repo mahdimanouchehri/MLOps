{
 "cells": [
  {
   "cell_type": "code",
   "execution_count": 1,
   "id": "3a2e851b",
   "metadata": {},
   "outputs": [
    {
     "name": "stdout",
     "output_type": "stream",
     "text": [
      "Requirement already satisfied: fake-useragent in c:\\users\\jahannama\\anaconda3\\lib\\site-packages (1.1.3)\n",
      "Requirement already satisfied: importlib-resources>=5.0 in c:\\users\\jahannama\\anaconda3\\lib\\site-packages (from fake-useragent) (5.10.0)\n",
      "Requirement already satisfied: zipp>=3.1.0 in c:\\users\\jahannama\\anaconda3\\lib\\site-packages (from importlib-resources>=5.0->fake-useragent) (3.6.0)\n"
     ]
    }
   ],
   "source": [
    "!pip install fake-useragent"
   ]
  },
  {
   "cell_type": "code",
   "execution_count": 2,
   "id": "7d28cdfe",
   "metadata": {},
   "outputs": [],
   "source": [
    "import pandas as pd\n",
    "import numpy as np\n",
    "import requests\n",
    "from bs4 import BeautifulSoup\n",
    "import time\n",
    "from tqdm import tqdm\n",
    "import os\n",
    "from fake_useragent import UserAgent"
   ]
  },
  {
   "cell_type": "code",
   "execution_count": 124,
   "id": "410a851a",
   "metadata": {},
   "outputs": [],
   "source": [
    "cities = [\"tehran\",\n",
    "        \"hamedan\",\n",
    "        \"isfahan\",\n",
    "        \"sanandaj\",\n",
    "        \"mashhad\",\n",
    "        \"bushehr\",\n",
    "        \"tabriz\",\n",
    "        \"rasht\",\n",
    "        \"shiraz\"]\n",
    "links = [ \n",
    "            \"buy-office?has-photo=true\", \n",
    "             \"buy-villa?has-photo=true\",\n",
    "             \"buy-old-house?has-photo=true\", \n",
    "            \"car?has-photo=true&exchange=exclude-exchanges\",\n",
    "            \"bike-skate-scooter\",\n",
    "            \"buy-apartment?has-photo=true\",\n",
    "            \"computers\",\n",
    "            \"mobile-phones?has-photo=true&exchange=exclude-exchanges\", \n",
    "            \"laptop-notebook-macbook?has-photo=true&exchange=exclude-exchanges\", \n",
    "            \"motorcycles?has-photo=true&exchange=exclude-exchanges\", \n",
    "            \"refrigerator-freezer?has-photo=true&exchange=exclude-exchanges\",\n",
    "            \"washing-machines?has-photo=true&exchange=exclude-exchanges\",\n",
    "            \"dishwasher\"]\n",
    "\n",
    "urls = []\n",
    "for link in links:\n",
    "    for city in  cities :\n",
    "        urls.append(f\"https://divar.ir/s/{city}/{link}\")"
   ]
  },
  {
   "cell_type": "code",
   "execution_count": 149,
   "id": "01e04d7d",
   "metadata": {},
   "outputs": [
    {
     "name": "stderr",
     "output_type": "stream",
     "text": [
      "100%|██████████| 117/117 [02:00<00:00,  1.03s/it]\n"
     ]
    }
   ],
   "source": [
    "tokens=[]\n",
    "token_links=[]\n",
    "for url in tqdm(urls):\n",
    "    page = requests.get(url)\n",
    "    bs = BeautifulSoup(page.text, 'html.parser')\n",
    "    data = bs.find_all(\"div\", class_=\"post-card-item-af972 kt-col-6-bee95 kt-col-xxl-4-e9d46\")\n",
    "    for tag in data:\n",
    "        token = tag.find('a',attrs={'class':''})['href']\n",
    "        tokens.append(token)\n",
    "        cat1= url.split(\"/\")[-1].replace(\"&exchange=exclude-exchanges\", \"\").replace(\"?has-photo=true\", \"\")\n",
    "        token_links.append( [cat1 ,f\"https://divar.ir{token}\"])"
   ]
  },
  {
   "cell_type": "code",
   "execution_count": 150,
   "id": "45035dc3",
   "metadata": {},
   "outputs": [
    {
     "data": {
      "text/plain": [
       "['buy-office',\n",
       " 'https://divar.ir/v/آرژانتین-بخارست-۲۱۰-متر-سند-اداری-۶-اتاق-تکواحدی_دفتر-کار-اتاق-اداری-و-مطب_تهران_آرژانتین_دیوار/AZ9ogD_B']"
      ]
     },
     "execution_count": 150,
     "metadata": {},
     "output_type": "execute_result"
    }
   ],
   "source": [
    "token_links[0]"
   ]
  },
  {
   "cell_type": "code",
   "execution_count": 151,
   "id": "643ddd33",
   "metadata": {},
   "outputs": [
    {
     "name": "stdout",
     "output_type": "stream",
     "text": [
      "            cat3                                               link\n",
      "0     buy-office  https://divar.ir/v/آرژانتین-بخارست-۲۱۰-متر-سند...\n",
      "1     buy-office  https://divar.ir/v/آرژانتین-بخارست-۱۳۵-متر-مبل...\n",
      "2     buy-office  https://divar.ir/v/215متر-سند-اداری-موقعیت-تجا...\n",
      "3     buy-office  https://divar.ir/v/145مترسنداداری-2پارکینگ-بر-...\n",
      "4     buy-office  https://divar.ir/v/سعادت-آباد-۱۰۵متر-نوساز-فول...\n",
      "...          ...                                                ...\n",
      "2751  dishwasher  https://divar.ir/v/ماشین-ظرفشویی-بوش-آلمان-سری...\n",
      "2752  dishwasher  https://divar.ir/v/ماشین-ظرفشویی-بوش_ماشین-ظرف...\n",
      "2753  dishwasher  https://divar.ir/v/خریدار-ماشین-ظرفشویی-هستم-د...\n",
      "2754  dishwasher  https://divar.ir/v/ماشین-ظرفشویی-۱۴نفره-جی-پلا...\n",
      "2755  dishwasher  https://divar.ir/v/ماشین-ظرفشویی-دوو-مدل-dwk-2...\n",
      "\n",
      "[2756 rows x 2 columns]\n"
     ]
    }
   ],
   "source": [
    "df = pd.DataFrame (token_links, columns = ['cat3', 'link'])\n",
    "print (df)"
   ]
  },
  {
   "cell_type": "code",
   "execution_count": 153,
   "id": "b7a62172",
   "metadata": {},
   "outputs": [],
   "source": [
    "df.to_csv(\"links.csv\")"
   ]
  },
  {
   "cell_type": "code",
   "execution_count": 154,
   "id": "2893a444",
   "metadata": {},
   "outputs": [
    {
     "data": {
      "text/plain": [
       "array(['buy-office', 'buy-villa', 'buy-old-house', 'car',\n",
       "       'bike-skate-scooter', 'buy-apartment', 'computers',\n",
       "       'mobile-phones', 'laptop-notebook-macbook', 'motorcycles',\n",
       "       'refrigerator-freezer', 'washing-machines', 'dishwasher'],\n",
       "      dtype=object)"
      ]
     },
     "execution_count": 154,
     "metadata": {},
     "output_type": "execute_result"
    }
   ],
   "source": [
    "df['cat3'].unique()"
   ]
  },
  {
   "cell_type": "code",
   "execution_count": 155,
   "id": "52c2a73a",
   "metadata": {},
   "outputs": [],
   "source": [
    "df1 = df[df['cat3']== 'washing-machines' ]"
   ]
  },
  {
   "cell_type": "code",
   "execution_count": 156,
   "id": "0b0c1d3d",
   "metadata": {},
   "outputs": [],
   "source": [
    "df1 = df1.reset_index()"
   ]
  },
  {
   "cell_type": "code",
   "execution_count": 163,
   "id": "de156644",
   "metadata": {},
   "outputs": [
    {
     "name": "stderr",
     "output_type": "stream",
     "text": [
      "100%|██████████| 216/216 [04:34<00:00,  1.27s/it]\n"
     ]
    }
   ],
   "source": [
    "all_data = []\n",
    "ua = UserAgent()\n",
    "for i in tqdm(range(len(df1))):\n",
    "    try:\n",
    "        url = url.strip()\n",
    "        url = df1['link'][i]\n",
    "        time.sleep(np.random.randint(50,1000)/1000)\n",
    "        header = {'User-Agent':str(ua.random)}\n",
    "        page = requests.get(url)\n",
    "        bs = BeautifulSoup(page.text, 'html.parser')\n",
    "        data = {\"cat1\": \"home-kitchen\", \n",
    "                    \"cat2\": \"appliance\", \n",
    "                    \"cat3\": \"washing-machines\", \n",
    "                    \"title\": bs.find_all(\"div\", class_=\"kt-page-title__title kt-page-title__title--responsive-sized\")[0].text, \n",
    "                    \"description\": bs.find_all(\"p\", class_=\"kt-description-row__text kt-description-row__text--primary\")[0].text, \n",
    "                    \"url\": url, \n",
    "                    \"sub_title\": bs.find_all(\"div\", class_=\"kt-page-title__subtitle kt-page-title__subtitle--responsive-sized\")[0].text,\n",
    "                    \"price\": bs.find_all(\"p\", class_=\"kt-unexpandable-row__value\")[-1].text.replace(\" تومان\", \"\").replace(\"(مقطوع)\", \"\").replace(\"توافقی\", \"NAN\"),\n",
    "                    \"size\": None,\n",
    "                    \"year\": bs.find_all(\"span\", class_=\"kt-group-row-item__value\")[1].text if soup.find_all(\"span\", class_=\"kt-group-row-item__value\") else None, \n",
    "                    \"room_number\": None, \n",
    "                    \"color\": bs.find_all(\"span\", class_=\"kt-group-row-item__value\")[2].text if len(soup.find_all(\"span\", class_=\"kt-group-row-item__value\")) > 2 else None, \n",
    "                    \"mileage\": bs.find_all(\"span\", class_=\"kt-group-row-item__value\")[0].text if soup.find_all(\"span\", class_=\"kt-group-row-item__value\") else None,\n",
    "                    \"CPU\": None,\n",
    "                    \"RAM\": None\n",
    "                   }\n",
    "        all_data.append(data)\n",
    "    \n",
    "    except:\n",
    "        pass  \n",
    "    "
   ]
  },
  {
   "cell_type": "code",
   "execution_count": 165,
   "id": "1e0a205a",
   "metadata": {},
   "outputs": [],
   "source": [
    "pd.json_normalize(all_data).to_csv('washing-machines.csv')"
   ]
  },
  {
   "cell_type": "code",
   "execution_count": 200,
   "id": "d700f99d",
   "metadata": {},
   "outputs": [
    {
     "name": "stderr",
     "output_type": "stream",
     "text": [
      "100%|██████████| 216/216 [04:46<00:00,  1.33s/it]"
     ]
    },
    {
     "name": "stdout",
     "output_type": "stream",
     "text": [
      "216\n"
     ]
    },
    {
     "name": "stderr",
     "output_type": "stream",
     "text": [
      "\n"
     ]
    }
   ],
   "source": [
    "df2 = df[df['cat3']== 'buy-apartment' ]\n",
    "df2 = df2.reset_index()\n",
    "\n",
    "all_data_for_buy_apartment = []\n",
    "\n",
    "ua = UserAgent()\n",
    "for i in tqdm(range(len(df2))):\n",
    "    try:\n",
    "        url = url.strip()\n",
    "        url = df2['link'][i]\n",
    "        time.sleep(np.random.randint(50,1000)/1000)\n",
    "        header = {'User-Agent':str(ua.random)}\n",
    "        page = requests.get(url)\n",
    "        bs = BeautifulSoup(page.text, 'html.parser')\n",
    "        data = {\"cat1\": \"real-estate\", \n",
    "                \"cat2\": \"buy-residential\", \n",
    "                \"cat3\": \"buy-apartment\", \n",
    "                \"title\": bs.find_all(\"div\", class_=\"kt-page-title__title kt-page-title__title--responsive-sized\")[0].text, \n",
    "                \"description\": bs.find_all(\"p\", class_=\"kt-description-row__text kt-description-row__text--primary\")[0].text, \n",
    "                \"url\": url, \n",
    "                \"sub_title\": bs.find_all(\"div\", class_=\"kt-page-title__subtitle kt-page-title__subtitle--responsive-sized\")[0].text,\n",
    "                \"price\": bs.find_all(\"p\", class_=\"kt-unexpandable-row__value\")[0].text.replace(\" تومان\", \"\").replace(\"(مقطوع)\", \"\").replace(\"توافقی\", \"NAN\"),  \n",
    "                \"size\": bs.find_all(\"span\", class_=\"kt-group-row-item__value\")[0].text.replace(\" متر\", \"\"),\n",
    "                \"year\": bs.find_all(\"span\", class_=\"kt-group-row-item__value\")[1].text.replace(\"قبل از \", \"\"), \n",
    "                \"room_number\": bs.find_all(\"span\", class_=\"kt-group-row-item__value\")[2].text.replace(\"بدون اتاق\", \"۰\"), \n",
    "                \"color\": None, \n",
    "                \"mileage\": None,\n",
    "                \"CPU\": None,\n",
    "                \"RAM\": None\n",
    "               }\n",
    "        all_data_for_buy_apartment.append(data)\n",
    "    \n",
    "    except:\n",
    "        pass  \n",
    "pd.json_normalize(all_data_for_buy_apartment).to_csv('buy-apartment.csv')  \n",
    "print(len(all_data_for_buy_apartment))"
   ]
  },
  {
   "cell_type": "code",
   "execution_count": 201,
   "id": "fc91724f",
   "metadata": {},
   "outputs": [
    {
     "name": "stderr",
     "output_type": "stream",
     "text": [
      "100%|██████████| 216/216 [04:45<00:00,  1.32s/it]"
     ]
    },
    {
     "name": "stdout",
     "output_type": "stream",
     "text": [
      "213\n"
     ]
    },
    {
     "name": "stderr",
     "output_type": "stream",
     "text": [
      "\n"
     ]
    }
   ],
   "source": [
    "df3 = df[df['cat3']== 'buy-villa' ]\n",
    "df3 = df3.reset_index()\n",
    "all_data_for_buy_villa = []\n",
    "\n",
    "ua = UserAgent()\n",
    "for i in tqdm(range(len(df3))):\n",
    "    try:\n",
    "        url = url.strip()\n",
    "        url = df3['link'][i]\n",
    "        time.sleep(np.random.randint(50,1000)/1000)\n",
    "        header = {'User-Agent':str(ua.random)}\n",
    "        page = requests.get(url)\n",
    "        bs = BeautifulSoup(page.text, 'html.parser')\n",
    "        data = {\"cat1\": \"real-estate\", \n",
    "                \"cat2\": \"buy-residential\", \n",
    "                \"cat3\": \"buy-apartment\", \n",
    "                \"title\": bs.find_all(\"div\", class_=\"kt-page-title__title kt-page-title__title--responsive-sized\")[0].text, \n",
    "                \"description\": bs.find_all(\"p\", class_=\"kt-description-row__text kt-description-row__text--primary\")[0].text, \n",
    "                \"url\": url, \n",
    "                \"sub_title\": bs.find_all(\"div\", class_=\"kt-page-title__subtitle kt-page-title__subtitle--responsive-sized\")[0].text,\n",
    "                \"price\": bs.find_all(\"p\", class_=\"kt-unexpandable-row__value\")[0].text.replace(\" تومان\", \"\").replace(\"(مقطوع)\", \"\").replace(\"توافقی\", \"NAN\"),  \n",
    "                \"size\": bs.find_all(\"span\", class_=\"kt-group-row-item__value\")[0].text.replace(\" متر\", \"\"),\n",
    "                \"year\": bs.find_all(\"span\", class_=\"kt-group-row-item__value\")[1].text.replace(\"قبل از \", \"\"), \n",
    "                \"room_number\": bs.find_all(\"span\", class_=\"kt-group-row-item__value\")[2].text.replace(\"بدون اتاق\", \"۰\"), \n",
    "                \"color\": None, \n",
    "                \"mileage\": None,\n",
    "                \"CPU\": None,\n",
    "                \"RAM\": None\n",
    "               }\n",
    "        all_data_for_buy_villa.append(data)\n",
    "    \n",
    "    except:\n",
    "        pass  \n",
    "pd.json_normalize(all_data_for_buy_villa).to_csv('buy-villa.csv')  \n",
    "print(len(all_data_for_buy_villa))"
   ]
  },
  {
   "cell_type": "code",
   "execution_count": 202,
   "id": "1a174046",
   "metadata": {},
   "outputs": [
    {
     "name": "stderr",
     "output_type": "stream",
     "text": [
      "100%|██████████| 188/188 [04:04<00:00,  1.30s/it]"
     ]
    },
    {
     "name": "stdout",
     "output_type": "stream",
     "text": [
      "187\n"
     ]
    },
    {
     "name": "stderr",
     "output_type": "stream",
     "text": [
      "\n"
     ]
    }
   ],
   "source": [
    "df4 = df[df['cat3']== 'buy-office' ]\n",
    "df4 = df4.reset_index()\n",
    "all_data_for_buy_office = []\n",
    "\n",
    "ua = UserAgent()\n",
    "for i in tqdm(range(len(df4))):\n",
    "    try:\n",
    "        url = url.strip()\n",
    "        url = df4['link'][i]\n",
    "        time.sleep(np.random.randint(50,1000)/1000)\n",
    "        header = {'User-Agent':str(ua.random)}\n",
    "        page = requests.get(url)\n",
    "        bs = BeautifulSoup(page.text, 'html.parser')\n",
    "        data = {\"cat1\": \"real-estate\", \n",
    "                \"cat2\": \"buy-commercial-property\", \n",
    "                \"cat3\": \"buy-office\", \n",
    "                \"title\": bs.find_all(\"div\", class_=\"kt-page-title__title kt-page-title__title--responsive-sized\")[0].text, \n",
    "                \"description\": bs.find_all(\"p\", class_=\"kt-description-row__text kt-description-row__text--primary\")[0].text, \n",
    "                \"url\": url, \n",
    "                \"sub_title\": bs.find_all(\"div\", class_=\"kt-page-title__subtitle kt-page-title__subtitle--responsive-sized\")[0].text,\n",
    "                \"price\": bs.find_all(\"p\", class_=\"kt-unexpandable-row__value\")[0].text.replace(\" تومان\", \"\").replace(\"(مقطوع)\", \"\").replace(\"توافقی\", \"NAN\"),\n",
    "                \"size\": bs.find_all(\"span\", class_=\"kt-group-row-item__value\")[0].text.replace(\" متر\", \"\"),\n",
    "                \"year\": bs.find_all(\"span\", class_=\"kt-group-row-item__value\")[1].text.replace(\"قبل از \", \"\"), \n",
    "                \"room_number\": bs.find_all(\"span\", class_=\"kt-group-row-item__value\")[2].text.replace(\"بدون اتاق\", \"۰\"), \n",
    "                \"color\": None, \n",
    "                \"mileage\": None,\n",
    "                \"CPU\": None,\n",
    "                \"RAM\": None\n",
    "               }\n",
    "        all_data_for_buy_office.append(data)\n",
    "    \n",
    "    except:\n",
    "        pass  \n",
    "pd.json_normalize(all_data_for_buy_office).to_csv('buy-office.csv') \n",
    "print(len(all_data_for_buy_office))"
   ]
  },
  {
   "cell_type": "code",
   "execution_count": 203,
   "id": "16c1b22a",
   "metadata": {},
   "outputs": [
    {
     "name": "stderr",
     "output_type": "stream",
     "text": [
      "100%|██████████| 192/192 [04:09<00:00,  1.30s/it]"
     ]
    },
    {
     "name": "stdout",
     "output_type": "stream",
     "text": [
      "192\n"
     ]
    },
    {
     "name": "stderr",
     "output_type": "stream",
     "text": [
      "\n"
     ]
    }
   ],
   "source": [
    "df5 = df[df['cat3']== 'car' ]\n",
    "df5 = df5.reset_index()\n",
    "all_data_for_car = []\n",
    "\n",
    "ua = UserAgent()\n",
    "for i in tqdm(range(len(df5))):\n",
    "    try:\n",
    "        url = url.strip()\n",
    "        url = df5['link'][i]\n",
    "        time.sleep(np.random.randint(50,1000)/1000)\n",
    "        header = {'User-Agent':str(ua.random)}\n",
    "        page = requests.get(url)\n",
    "        bs = BeautifulSoup(page.text, 'html.parser')\n",
    "        data = {\"cat1\": \"vehicles\", \n",
    "                \"cat2\": \"auto\", \n",
    "                \"cat3\": \"car\", \n",
    "                \"title\": bs.find_all(\"div\", class_=\"kt-page-title__title kt-page-title__title--responsive-sized\")[0].text, \n",
    "                \"description\": bs.find_all(\"p\", class_=\"kt-description-row__text kt-description-row__text--primary\")[0].text, \n",
    "                \"url\": url, \n",
    "                \"sub_title\": bs.find_all(\"div\", class_=\"kt-page-title__subtitle kt-page-title__subtitle--responsive-sized\")[0].text,\n",
    "                \"price\": bs.find_all(\"p\", class_=\"kt-unexpandable-row__value\")[-1].text.replace(\" تومان\", \"\").replace(\"(مقطوع)\", \"\").replace(\"توافقی\", \"NAN\"),\n",
    "                \"size\": None,\n",
    "                \"year\": bs.find_all(\"span\", class_=\"kt-group-row-item__value\")[1].text if soup.find_all(\"span\", class_=\"kt-group-row-item__value\") else None, \n",
    "                \"room_number\": None, \n",
    "                \"color\": bs.find_all(\"span\", class_=\"kt-group-row-item__value\")[2].text if len(soup.find_all(\"span\", class_=\"kt-group-row-item__value\")) > 2 else None, \n",
    "                \"mileage\": bs.find_all(\"span\", class_=\"kt-group-row-item__value\")[0].text if soup.find_all(\"span\", class_=\"kt-group-row-item__value\") else None,\n",
    "                \"CPU\": None,\n",
    "                \"RAM\": None\n",
    "               }\n",
    "        all_data_for_car.append(data)\n",
    "    \n",
    "    except:\n",
    "        pass  \n",
    "pd.json_normalize(all_data_for_car).to_csv('car.csv')\n",
    "print(len(all_data_for_car))"
   ]
  }
 ],
 "metadata": {
  "kernelspec": {
   "display_name": "Python 3 (ipykernel)",
   "language": "python",
   "name": "python3"
  },
  "language_info": {
   "codemirror_mode": {
    "name": "ipython",
    "version": 3
   },
   "file_extension": ".py",
   "mimetype": "text/x-python",
   "name": "python",
   "nbconvert_exporter": "python",
   "pygments_lexer": "ipython3",
   "version": "3.9.7"
  }
 },
 "nbformat": 4,
 "nbformat_minor": 5
}
